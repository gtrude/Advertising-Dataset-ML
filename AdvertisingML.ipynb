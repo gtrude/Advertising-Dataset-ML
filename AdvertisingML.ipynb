{
  "nbformat": 4,
  "nbformat_minor": 0,
  "metadata": {
    "colab": {
      "provenance": [],
      "collapsed_sections": [
        "IyPAXrjjlgHy",
        "6B6hSl4MkBKW",
        "fSfU0tlflvK-",
        "5xg1fMfMnjYm"
      ]
    },
    "kernelspec": {
      "name": "python3",
      "display_name": "Python 3"
    },
    "language_info": {
      "name": "python"
    }
  },
  "cells": [
    {
      "cell_type": "markdown",
      "source": [
        "# Imports and Setup"
      ],
      "metadata": {
        "id": "IyPAXrjjlgHy"
      }
    },
    {
      "cell_type": "code",
      "execution_count": null,
      "metadata": {
        "id": "10SzOwfj7Ob6"
      },
      "outputs": [],
      "source": [
        "import numpy as np\n",
        "import pandas as pd\n",
        "import matplotlib.pyplot as plt\n",
        "import seaborn as sns\n",
        "\n",
        "from sklearn.model_selection import train_test_split\n",
        "\n",
        "from sklearn.linear_model import LinearRegression\n",
        "\n",
        "from sklearn.metrics import mean_absolute_error,mean_squared_error"
      ]
    },
    {
      "cell_type": "code",
      "source": [
        "df = pd.read_csv(\"Advertising.csv\")"
      ],
      "metadata": {
        "id": "C70MFTuA8Vs5"
      },
      "execution_count": null,
      "outputs": []
    },
    {
      "cell_type": "code",
      "source": [
        "X = df.drop('sales',axis=1)\n",
        "y = df['sales']"
      ],
      "metadata": {
        "id": "C52E6nMG8kil"
      },
      "execution_count": null,
      "outputs": []
    },
    {
      "cell_type": "markdown",
      "source": [
        "# Linear Regression Section"
      ],
      "metadata": {
        "id": "6B6hSl4MkBKW"
      }
    },
    {
      "cell_type": "code",
      "source": [
        "X_train, X_test, y_train, y_test = train_test_split(X, y, test_size=0.3, random_state=42)"
      ],
      "metadata": {
        "id": "45-_IN6sHzEX"
      },
      "execution_count": null,
      "outputs": []
    },
    {
      "cell_type": "code",
      "source": [
        "linearModel = LinearRegression()"
      ],
      "metadata": {
        "id": "9Wq3a_WCH7My"
      },
      "execution_count": null,
      "outputs": []
    },
    {
      "cell_type": "code",
      "source": [
        "linearModel.fit(X_train,y_train)"
      ],
      "metadata": {
        "colab": {
          "base_uri": "https://localhost:8080/"
        },
        "id": "Suf29UKCIA9b",
        "outputId": "ba22f7d3-2f2f-42f9-a7d8-dbf42b9115db"
      },
      "execution_count": null,
      "outputs": [
        {
          "output_type": "execute_result",
          "data": {
            "text/plain": [
              "LinearRegression()"
            ]
          },
          "metadata": {},
          "execution_count": 7
        }
      ]
    },
    {
      "cell_type": "code",
      "source": [
        "predictionsLinear = linearModel.predict(X_test)"
      ],
      "metadata": {
        "id": "AXS53FtDLFNJ"
      },
      "execution_count": null,
      "outputs": []
    },
    {
      "cell_type": "code",
      "source": [
        "MAELinear = mean_absolute_error(y_test,predictionsLinear)\n",
        "MSELinear = mean_squared_error(y_test,predictionsLinear)\n",
        "RMSELinear = np.sqrt(MSELinear)"
      ],
      "metadata": {
        "id": "I9pBiUAcTPMJ"
      },
      "execution_count": null,
      "outputs": []
    },
    {
      "cell_type": "markdown",
      "source": [
        "*Performance metrics for linear regression model*\n"
      ],
      "metadata": {
        "id": "Sy3yuQcgotJ8"
      }
    },
    {
      "cell_type": "code",
      "source": [
        "print(MAELinear)\n",
        "print(MSELinear)\n",
        "print(RMSELinear)\n",
        "print(predictionsLinear)\n",
        "linearModel.coef_"
      ],
      "metadata": {
        "colab": {
          "base_uri": "https://localhost:8080/"
        },
        "id": "zo5U0YKpTuCj",
        "outputId": "d7ca98fa-0bf0-410c-e1ea-50cf57c344ce"
      },
      "execution_count": null,
      "outputs": [
        {
          "output_type": "stream",
          "name": "stdout",
          "text": [
            "1.5116692224549086\n",
            "3.79679723671522\n",
            "1.9485372043446387\n",
            "[16.5653963  21.18822792 21.55107058 10.88923816 22.20231988 13.35556872\n",
            " 21.19692502  7.35028523 13.27547079 15.12449511  9.01443026  6.52542825\n",
            " 14.30205991  8.97026042  9.45679576 12.00454351  8.91549403 16.15619251\n",
            " 10.29582883 18.72473553 19.76821818 13.77469028 12.49638908 21.53501762\n",
            "  7.60860741  5.6119801  20.91759483 11.80627665  9.08076637  8.51412012\n",
            " 12.17604891  9.9691939  21.73008956 12.77770578 18.1011362  20.07590796\n",
            " 14.26202556 20.93826535 10.83938827  4.38190607  9.51332406 12.40486324\n",
            " 10.17045434  8.09081363 13.16388427  5.2243552   9.28893833 14.09330719\n",
            "  8.69024497 11.66119763 15.71848432 11.63156862 13.35360735 11.1531472\n",
            "  6.33636845  9.76157954  9.4195714  24.25516546  7.69519137 12.15317572]\n"
          ]
        },
        {
          "output_type": "execute_result",
          "data": {
            "text/plain": [
              "array([0.04405928, 0.1992875 , 0.00688245])"
            ]
          },
          "metadata": {},
          "execution_count": 51
        }
      ]
    },
    {
      "cell_type": "code",
      "source": [
        "final_modelLinear = LinearRegression()\n",
        "final_modelLinear.fit(X,y)\n",
        "y_hat = final_modelLinear.predict(X)"
      ],
      "metadata": {
        "id": "2EfiRutUVqCh"
      },
      "execution_count": null,
      "outputs": []
    },
    {
      "cell_type": "code",
      "source": [
        "from joblib import dump, load\n",
        "\n",
        "dump(final_modelLinear, 'sales_model.joblib')\n",
        "\n",
        "loaded_modelLinear = load('sales_model.joblib')"
      ],
      "metadata": {
        "id": "iQkGcP7jU9AN"
      },
      "execution_count": null,
      "outputs": []
    },
    {
      "cell_type": "code",
      "source": [
        "campaignLinear = [[149,22,12]]\n",
        "loaded_modelLinear.predict(campaignLinear)"
      ],
      "metadata": {
        "colab": {
          "base_uri": "https://localhost:8080/"
        },
        "id": "2FxZYp_8UAqd",
        "outputId": "40fef3e7-59c2-4f06-8c25-94ae25c73188"
      },
      "execution_count": null,
      "outputs": [
        {
          "output_type": "stream",
          "name": "stderr",
          "text": [
            "/usr/local/lib/python3.7/dist-packages/sklearn/base.py:451: UserWarning: X does not have valid feature names, but LinearRegression was fitted with feature names\n",
            "  \"X does not have valid feature names, but\"\n"
          ]
        },
        {
          "output_type": "execute_result",
          "data": {
            "text/plain": [
              "array([13.893032])"
            ]
          },
          "metadata": {},
          "execution_count": 40
        }
      ]
    },
    {
      "cell_type": "markdown",
      "source": [
        "# Polynomial Regression Section"
      ],
      "metadata": {
        "id": "fSfU0tlflvK-"
      }
    },
    {
      "cell_type": "markdown",
      "source": [
        "*Finding best degree*"
      ],
      "metadata": {
        "id": "I6HMM_1smvRH"
      }
    },
    {
      "cell_type": "code",
      "source": [
        "from sklearn.preprocessing import PolynomialFeatures\n",
        "\n",
        "#FINDING THE OPTIMAL DEGREE BY LOOPING\n",
        "\n",
        "x_train, x_test, y_train, y_test = train_test_split(X, y, test_size=0.3,random_state=42)\n",
        "#random_state=42 makes it so that we don't get different degrees each time\n",
        "\n",
        "rmses = []\n",
        "degrees = np.arange(1, 10) #array degrees with start 1 and end 10 step 1\n",
        "min_rmse, min_deg = 1e10, 0 #looking for minimum RMSE to choose best degree\n",
        "\n",
        "for deg in degrees:\n",
        "\n",
        "    # Train features\n",
        "    poly_features = PolynomialFeatures(degree=deg, include_bias=False)\n",
        "    x_poly_train = poly_features.fit_transform(x_train)\n",
        "\n",
        "    # Linear regression\n",
        "    poly_reg = LinearRegression()\n",
        "    poly_reg.fit(x_poly_train, y_train)\n",
        "\n",
        "    # Compare with test data\n",
        "    x_poly_test = poly_features.fit_transform(x_test)\n",
        "    poly_predict = poly_reg.predict(x_poly_test)\n",
        "    poly_mse = mean_squared_error(y_test, poly_predict)\n",
        "    poly_rmse = np.sqrt(poly_mse) #need to root the MSE value\n",
        "    rmses.append(poly_rmse) #add the current RMSE value to RMSES array\n",
        "\n",
        "    # Evaluating best degree\n",
        "    if min_rmse > poly_rmse:\n",
        "        min_rmse = poly_rmse\n",
        "        min_deg = deg\n",
        "\n",
        "# Plot and present results\n",
        "print('Best degree {} with RMSE {}'.format(min_deg, min_rmse)) #.format(var that replaces first {}, var that replaces second {} )\n",
        "\n",
        "fig = plt.figure()\n",
        "ax = fig.add_subplot(111)\n",
        "ax.plot(degrees, rmses)\n",
        "ax.set_yscale('log')\n",
        "ax.set_xlabel('Degree')\n",
        "ax.set_ylabel('RMSE')"
      ],
      "metadata": {
        "colab": {
          "base_uri": "https://localhost:8080/",
          "height": 316
        },
        "id": "EuJtO3NxWGun",
        "outputId": "6eee2595-dd74-47f6-f1d0-7d47612d9fb9"
      },
      "execution_count": null,
      "outputs": [
        {
          "output_type": "stream",
          "name": "stdout",
          "text": [
            "Best degree 3 with RMSE 0.5392350985674351\n"
          ]
        },
        {
          "output_type": "execute_result",
          "data": {
            "text/plain": [
              "Text(0, 0.5, 'RMSE')"
            ]
          },
          "metadata": {},
          "execution_count": 35
        },
        {
          "output_type": "display_data",
          "data": {
            "text/plain": [
              "<Figure size 432x288 with 1 Axes>"
            ],
            "image/png": "[encoded data removed]"
          },
          "metadata": {
            "needs_background": "light"
          }
        }
      ]
    },
    {
      "cell_type": "markdown",
      "source": [
        "Same process as previous cell but calculating MAE instead"
      ],
      "metadata": {
        "id": "qOvsZjgZnSgw"
      }
    },
    {
      "cell_type": "code",
      "source": [
        "x_train, x_test, y_train, y_test = train_test_split(X, y, test_size=0.3,random_state=42)\n",
        "\n",
        "maes = []\n",
        "degrees = np.arange(1, 10) #array degrees with start 1 and end 10 step 1\n",
        "min_mae, min_deg = 1e10, 0 #looking for minimum MAE to choose best degree\n",
        "\n",
        "for deg in degrees:\n",
        "\n",
        "    # Train features\n",
        "    poly_features = PolynomialFeatures(degree=deg, include_bias=False)\n",
        "    x_poly_train = poly_features.fit_transform(x_train)\n",
        "\n",
        "    # Linear regression\n",
        "    poly_reg = LinearRegression()\n",
        "    poly_reg.fit(x_poly_train, y_train)\n",
        "\n",
        "    # Compare with test data\n",
        "    x_poly_test = poly_features.fit_transform(x_test)\n",
        "    poly_predict = poly_reg.predict(x_poly_test)\n",
        "    poly_mae = mean_absolute_error(y_test,poly_predict)\n",
        "\n",
        "    maes.append(poly_mae) #add the current MAE value to maes array\n",
        "\n",
        "    # Cross-validation of degree\n",
        "    if min_mae > poly_mae:\n",
        "        min_mae = poly_mae\n",
        "        min_deg = deg\n",
        "\n",
        "# Plot and present results\n",
        "print('Best degree {} with MAE {}'.format(min_deg, min_mae)) #.format(var that replaces first {}, var that replaces second {} )\n",
        "\n",
        "fig = plt.figure()\n",
        "ax = fig.add_subplot(111)\n",
        "ax.plot(degrees, rmses)\n",
        "ax.set_yscale('log')\n",
        "ax.set_xlabel('Degree')\n",
        "ax.set_ylabel('MAE')"
      ],
      "metadata": {
        "colab": {
          "base_uri": "https://localhost:8080/",
          "height": 316
        },
        "id": "xzPHZ_t9zqvf",
        "outputId": "9f66e80f-ee45-4d3e-9f45-e8782fb12a0d"
      },
      "execution_count": null,
      "outputs": [
        {
          "output_type": "stream",
          "name": "stdout",
          "text": [
            "Best degree 3 with MAE 0.39728312133299737\n"
          ]
        },
        {
          "output_type": "execute_result",
          "data": {
            "text/plain": [
              "Text(0, 0.5, 'MAE')"
            ]
          },
          "metadata": {},
          "execution_count": 25
        },
        {
          "output_type": "display_data",
          "data": {
            "text/plain": [
              "<Figure size 432x288 with 1 Axes>"
            ],
            "image/png": "[encoded data removed]"
          },
          "metadata": {
            "needs_background": "light"
          }
        }
      ]
    },
    {
      "cell_type": "markdown",
      "source": [
        "Found the ideal degree:\n",
        "\n",
        "Both the lowest RMSE and MAE values belong to degree 3, therefore it is the ideal polynomial degree.\n",
        "\n",
        "Time to save"
      ],
      "metadata": {
        "id": "aGtNSrCRml3h"
      }
    },
    {
      "cell_type": "code",
      "source": [
        "#DEGREE 3 SEPERATELY\n",
        "\n",
        "poly_features = PolynomialFeatures(degree=3, include_bias=False)\n",
        "x_poly_train2 = poly_features.fit_transform(X)\n",
        "x_train, x_test, y_train, y_test = train_test_split(x_poly_train2, y, test_size=0.3,random_state=42)\n",
        "\n",
        "poly_reg = LinearRegression()\n",
        "poly_reg.fit(x_train, y_train)\n",
        "\n",
        "x_poly_test = poly_features.fit_transform(x_test)\n",
        "poly_predict = poly_reg.predict(x_test)"
      ],
      "metadata": {
        "id": "JJuCefrNcEd5"
      },
      "execution_count": null,
      "outputs": []
    },
    {
      "cell_type": "code",
      "source": [
        "optimal_polyreg_model = poly_reg\n",
        "optimal_polyreg_model.fit(x_poly_train2,y)\n",
        "y_hat = optimal_polyreg_model.predict(x_test)"
      ],
      "metadata": {
        "id": "1HeuTqCBdzBa"
      },
      "execution_count": null,
      "outputs": []
    },
    {
      "cell_type": "code",
      "source": [
        "from joblib import dump, load\n",
        "\n",
        "dump(poly_reg, 'optimal_polyreg_model.joblib')\n",
        "\n",
        "loaded_modelPoly = load('optimal_polyreg_model.joblib')"
      ],
      "metadata": {
        "id": "DbbLWEQCaPnZ"
      },
      "execution_count": null,
      "outputs": []
    },
    {
      "cell_type": "code",
      "source": [
        "pred2array = np.array([[149,22,12]])\n",
        "loaded_modelPoly.predict(poly_features.fit_transform(pred2array))"
      ],
      "metadata": {
        "colab": {
          "base_uri": "https://localhost:8080/"
        },
        "id": "F1LCgEoEbaxS",
        "outputId": "b21b83ac-06fb-405d-b15f-a5af9ff2b50f"
      },
      "execution_count": null,
      "outputs": [
        {
          "output_type": "execute_result",
          "data": {
            "text/plain": [
              "array([14.64501014])"
            ]
          },
          "metadata": {},
          "execution_count": 53
        }
      ]
    },
    {
      "cell_type": "markdown",
      "source": [
        "# Ridge Regression Section"
      ],
      "metadata": {
        "id": "5xg1fMfMnjYm"
      }
    },
    {
      "cell_type": "code",
      "source": [
        "from sklearn.linear_model import RidgeCV\n",
        "ridge_cv_model = RidgeCV(alphas=(0.1, 1.0, 10.0),scoring='neg_mean_absolute_error')\n",
        "ridge_cv_model.fit(X,y)\n",
        "ridge_test_predictions = ridge_cv_model.predict(X_test)\n",
        "MAE_Ridge = mean_absolute_error(y_test,ridge_test_predictions)\n",
        "MSE_Ridge = mean_squared_error(y_test,ridge_test_predictions)\n",
        "RMSE_Ridge = np.sqrt(MSE_Ridge)"
      ],
      "metadata": {
        "id": "m1nTPdEqVShR"
      },
      "execution_count": null,
      "outputs": []
    },
    {
      "cell_type": "markdown",
      "source": [
        "*Performance metrics for ridge regression model*"
      ],
      "metadata": {
        "id": "vFXHH8GLp90C"
      }
    },
    {
      "cell_type": "code",
      "source": [
        "print(MAE_Ridge)\n",
        "print(MSE_Ridge)\n",
        "print(RMSE_Ridge)\n",
        "print(ridge_test_predictions)"
      ],
      "metadata": {
        "colab": {
          "base_uri": "https://localhost:8080/"
        },
        "id": "bw2UVdSDYZAU",
        "outputId": "064ce583-773a-403f-8316-f81f3549df69"
      },
      "execution_count": null,
      "outputs": [
        {
          "output_type": "stream",
          "name": "stdout",
          "text": [
            "1.4394502172242232\n",
            "3.297763836291627\n",
            "1.8159746243523411\n",
            "[16.31491969 20.81929014 21.63393275 10.38419378 22.25547563 12.91968587\n",
            " 21.10890184  7.39498431 13.74436506 15.16152361  9.01602764  6.55467859\n",
            " 14.2237376   8.81330781  9.69138308 12.16205456  8.52771155 16.3599983\n",
            " 10.17840973 18.97657476 19.4544138  12.82366023 12.26334886 21.22757221\n",
            "  7.84904868  5.74216501 20.78135528 12.03700918  9.1273547   8.44914485\n",
            " 12.55085774  9.951682   21.29260124 11.85831881 18.36721064 20.30110027\n",
            " 14.00139958 20.85125263 11.06829582  4.47759859  9.67531007 12.78592478\n",
            "  9.90867995  8.1465227  13.62646553  5.37035017  9.14402874 14.16607125\n",
            "  8.76481175 11.59870361 15.30508486 11.97094469 12.47834043 10.5771689\n",
            "  6.57078661  9.9029908   9.48964198 24.11860025  7.60769239 12.6357239 ]\n"
          ]
        }
      ]
    },
    {
      "cell_type": "code",
      "source": [
        "campaignRidge= [[149,22,12]]\n",
        "ridge_cv_model.predict(campaignRidge)"
      ],
      "metadata": {
        "colab": {
          "base_uri": "https://localhost:8080/"
        },
        "id": "gdA3j60JZ2lI",
        "outputId": "8121dcba-b51c-4d89-bbaf-1dace8a06d4b"
      },
      "execution_count": null,
      "outputs": [
        {
          "output_type": "stream",
          "name": "stderr",
          "text": [
            "/usr/local/lib/python3.7/dist-packages/sklearn/base.py:451: UserWarning: X does not have valid feature names, but RidgeCV was fitted with feature names\n",
            "  \"X does not have valid feature names, but\"\n"
          ]
        },
        {
          "output_type": "execute_result",
          "data": {
            "text/plain": [
              "array([13.8930304])"
            ]
          },
          "metadata": {},
          "execution_count": 21
        }
      ]
    }
  ]
}